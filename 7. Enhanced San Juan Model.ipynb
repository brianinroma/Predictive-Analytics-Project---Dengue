{
 "cells": [
  {
   "cell_type": "markdown",
   "id": "830db783-a919-4e29-91b7-0af7981038ff",
   "metadata": {},
   "source": [
    "# G. Predictive Analytics - Enhancing the San Juan Model"
   ]
  },
  {
   "cell_type": "code",
   "execution_count": null,
   "id": "a2d25e26-755d-4b6c-8645-4358041cfbe5",
   "metadata": {},
   "outputs": [],
   "source": []
  }
 ],
 "metadata": {
  "kernelspec": {
   "display_name": "Python 3 (ipykernel)",
   "language": "python",
   "name": "python3"
  },
  "language_info": {
   "codemirror_mode": {
    "name": "ipython",
    "version": 3
   },
   "file_extension": ".py",
   "mimetype": "text/x-python",
   "name": "python",
   "nbconvert_exporter": "python",
   "pygments_lexer": "ipython3",
   "version": "3.9.12"
  }
 },
 "nbformat": 4,
 "nbformat_minor": 5
}
