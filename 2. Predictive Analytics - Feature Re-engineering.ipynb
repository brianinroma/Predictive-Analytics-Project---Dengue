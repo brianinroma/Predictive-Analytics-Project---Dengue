{
 "cells": [
  {
   "cell_type": "markdown",
   "id": "dac3f683-2a67-4351-9a51-e173be06975c",
   "metadata": {},
   "source": [
    "# B. Predictive Analytics - Feature Re-engineering"
   ]
  },
  {
   "cell_type": "code",
   "execution_count": 17,
   "id": "277f4813-71ef-4860-b419-7d5c425c15c6",
   "metadata": {
    "tags": []
   },
   "outputs": [],
   "source": [
    "# Author: Brian Gray, with Grok for data insight and debugging support\n",
    "# Date: 21 May 2025\n",
    "# Purpose: Re-engineer features to improve model accuracy\n",
    "# Dataset source file: cleaned_dengue_data.csv\n",
    "# Output dataset: dengue_reengineered.csv\n",
    "# Dependencies: pandas and numpy\n",
    "# Notes:\n",
    "# 1. Outlier handling to control for potential sensor values\n",
    "# 2. Create composite precipitation to enhance scalability\n",
    "# 3. Add lagged feature to capture epidemiological factors to improve forecasting for real-world application\n",
    "# 4. Create interaction feature to capture synergy of warm and humid conditions that promote mosquito population growth\n",
    "# 5. Reduce redundant features, reducing model complexity\n",
    "# 6. Normalize NVDI and temperature features to support equal feature weighting when modeling"
   ]
  },
  {
   "cell_type": "code",
   "execution_count": 1,
   "id": "4dcd2557-b65f-450b-93bc-058b4112e6b0",
   "metadata": {},
   "outputs": [],
   "source": [
    "import pandas as pd\n",
    "import numpy as np"
   ]
  },
  {
   "cell_type": "code",
   "execution_count": 2,
   "id": "b84c62f4-d7db-4f3b-9e6b-17a9ae00c952",
   "metadata": {},
   "outputs": [],
   "source": [
    "# Load the source dataset\n",
    "\n",
    "df = pd.read_csv('cleaned_dengue_data.csv')"
   ]
  },
  {
   "cell_type": "code",
   "execution_count": 3,
   "id": "7fa3ef43-4a97-457c-ba3e-e941eee737b0",
   "metadata": {},
   "outputs": [
    {
     "name": "stdout",
     "output_type": "stream",
     "text": [
      "<class 'pandas.core.frame.DataFrame'>\n",
      "RangeIndex: 1456 entries, 0 to 1455\n",
      "Data columns (total 25 columns):\n",
      " #   Column                                 Non-Null Count  Dtype  \n",
      "---  ------                                 --------------  -----  \n",
      " 0   city                                   1456 non-null   object \n",
      " 1   weekofyear                             1456 non-null   float64\n",
      " 2   ndvi_ne                                1456 non-null   float64\n",
      " 3   ndvi_nw                                1456 non-null   float64\n",
      " 4   ndvi_se                                1456 non-null   float64\n",
      " 5   ndvi_sw                                1456 non-null   float64\n",
      " 6   ndvi_ce                                1456 non-null   float64\n",
      " 7   precipitation_amt_mm                   1456 non-null   float64\n",
      " 8   precipitation_ground_mm                1456 non-null   float64\n",
      " 9   reanalysis_air_temp_k                  1456 non-null   float64\n",
      " 10  reanalysis_avg_temp_k                  1456 non-null   float64\n",
      " 11  reanalysis_dew_point_temp_k            1456 non-null   float64\n",
      " 12  reanalysis_max_air_temp_k              1456 non-null   float64\n",
      " 13  reanalysis_min_air_temp_k              1456 non-null   float64\n",
      " 14  reanalysis_precip_amt_kg_per_m2        1456 non-null   float64\n",
      " 15  reanalysis_relative_humidity_percent   1456 non-null   float64\n",
      " 16  reanalysis_sat_precip_amt_mm           1456 non-null   float64\n",
      " 17  reanalysis_specific_humidity_g_per_kg  1456 non-null   float64\n",
      " 18  reanalysis_tdtr_k                      1456 non-null   float64\n",
      " 19  station_avg_temp_c                     1456 non-null   float64\n",
      " 20  station_diur_temp_rng_c                1456 non-null   float64\n",
      " 21  station_max_temp_c                     1456 non-null   float64\n",
      " 22  station_min_temp_c                     1456 non-null   float64\n",
      " 23  station_precip_mm                      1456 non-null   float64\n",
      " 24  total_cases                            1456 non-null   int64  \n",
      "dtypes: float64(23), int64(1), object(1)\n",
      "memory usage: 284.5+ KB\n",
      "None\n",
      "n\\Missing Values:\n",
      "city                                     0\n",
      "weekofyear                               0\n",
      "ndvi_ne                                  0\n",
      "ndvi_nw                                  0\n",
      "ndvi_se                                  0\n",
      "ndvi_sw                                  0\n",
      "ndvi_ce                                  0\n",
      "precipitation_amt_mm                     0\n",
      "precipitation_ground_mm                  0\n",
      "reanalysis_air_temp_k                    0\n",
      "reanalysis_avg_temp_k                    0\n",
      "reanalysis_dew_point_temp_k              0\n",
      "reanalysis_max_air_temp_k                0\n",
      "reanalysis_min_air_temp_k                0\n",
      "reanalysis_precip_amt_kg_per_m2          0\n",
      "reanalysis_relative_humidity_percent     0\n",
      "reanalysis_sat_precip_amt_mm             0\n",
      "reanalysis_specific_humidity_g_per_kg    0\n",
      "reanalysis_tdtr_k                        0\n",
      "station_avg_temp_c                       0\n",
      "station_diur_temp_rng_c                  0\n",
      "station_max_temp_c                       0\n",
      "station_min_temp_c                       0\n",
      "station_precip_mm                        0\n",
      "total_cases                              0\n",
      "dtype: int64\n",
      "n\\Feature Statistics:\n",
      "        weekofyear      ndvi_ne      ndvi_nw      ndvi_se      ndvi_sw  \\\n",
      "count  1456.000000  1456.000000  1456.000000  1456.000000  1456.000000   \n",
      "mean     26.500000     0.140970     0.130604     0.203529     0.202129   \n",
      "std      15.013488     0.127841     0.115308     0.071689     0.081495   \n",
      "min       1.000000    -0.184500    -0.130000     0.060000     0.050000   \n",
      "25%      13.750000     0.060000     0.050000     0.160000     0.140000   \n",
      "50%      26.500000     0.130000     0.120000     0.200000     0.190000   \n",
      "75%      39.250000     0.230000     0.210000     0.250000     0.250000   \n",
      "max      52.000000     0.430000     0.390000     0.404500     0.440000   \n",
      "\n",
      "           ndvi_ce  precipitation_amt_mm  precipitation_ground_mm  \\\n",
      "count  1456.000000           1456.000000              1456.000000   \n",
      "mean      3.428419             45.065836                81.115349   \n",
      "std       6.600423             40.544677                83.636965   \n",
      "min      -8.536000              0.000000                -6.503500   \n",
      "25%      -0.332500              9.960000                31.817500   \n",
      "50%       1.940000             38.340000                56.980000   \n",
      "75%       5.735000             70.047500               101.170000   \n",
      "max      35.068500            180.496500               514.290000   \n",
      "\n",
      "       reanalysis_air_temp_k  reanalysis_avg_temp_k  ...  \\\n",
      "count            1456.000000            1456.000000  ...   \n",
      "mean              298.703831             299.225974  ...   \n",
      "std                 1.342169               1.236583  ...   \n",
      "min               295.679500             296.360000  ...   \n",
      "25%               297.667500             298.260000  ...   \n",
      "50%               298.650000             299.290000  ...   \n",
      "75%               299.830000             300.210000  ...   \n",
      "max               301.249000             301.612500  ...   \n",
      "\n",
      "       reanalysis_relative_humidity_percent  reanalysis_sat_precip_amt_mm  \\\n",
      "count                           1456.000000                   1456.000000   \n",
      "mean                              82.173211                     45.065836   \n",
      "std                                7.049508                     40.544677   \n",
      "min                               68.684000                      0.000000   \n",
      "25%                               77.230000                      9.960000   \n",
      "50%                               80.300000                     38.340000   \n",
      "75%                               86.040000                     70.047500   \n",
      "max                               97.347000                    180.496500   \n",
      "\n",
      "       reanalysis_specific_humidity_g_per_kg  reanalysis_tdtr_k  \\\n",
      "count                            1456.000000        1456.000000   \n",
      "mean                               16.748918           4.883101   \n",
      "std                                 1.520223           3.516105   \n",
      "min                                12.778500           1.700000   \n",
      "25%                                15.560000           2.330000   \n",
      "50%                                17.090000           2.860000   \n",
      "75%                                17.972500           7.552500   \n",
      "max                                19.304500          13.827000   \n",
      "\n",
      "       station_avg_temp_c  station_diur_temp_rng_c  station_max_temp_c  \\\n",
      "count         1456.000000              1456.000000         1456.000000   \n",
      "mean            27.195022                 8.031961           32.451013   \n",
      "std              1.244963                 2.078600            1.910916   \n",
      "min             24.181000                 4.835500           27.800000   \n",
      "25%             26.330000                 6.530000           31.100000   \n",
      "50%             27.410000                 7.300000           32.800000   \n",
      "75%             28.130000                 9.500000           33.900000   \n",
      "max             29.404500                13.261500           36.545000   \n",
      "\n",
      "       station_min_temp_c  station_precip_mm  total_cases  \n",
      "count         1456.000000        1456.000000  1456.000000  \n",
      "mean            22.106181          38.475687    23.540522  \n",
      "std              1.536570          43.471254    35.457206  \n",
      "min             17.800000           0.000000     0.000000  \n",
      "25%             21.100000           8.850000     5.000000  \n",
      "50%             22.200000          23.850000    12.000000  \n",
      "75%             23.300000          53.600000    28.000000  \n",
      "max             25.000000         234.100000   236.000000  \n",
      "\n",
      "[8 rows x 24 columns]\n"
     ]
    }
   ],
   "source": [
    "# Verify data integrity\n",
    "\n",
    "print(df.info())\n",
    "print(\"n\\Missing Values:\")\n",
    "print(df.isnull().sum())\n",
    "print(\"n\\Feature Statistics:\")\n",
    "print(df.describe())"
   ]
  },
  {
   "cell_type": "code",
   "execution_count": 4,
   "id": "6da9c4ff-e9e3-4e87-a8f3-18858f7a0d63",
   "metadata": {},
   "outputs": [
    {
     "name": "stdout",
     "output_type": "stream",
     "text": [
      "n\\After Outlier Handling (99th Percentile):\n",
      "           ndvi_ce  precipitation_ground_mm  reanalysis_sat_precip_amt_mm\n",
      "count  1456.000000              1456.000000                   1456.000000\n",
      "mean      3.423498                81.046504                     45.056733\n",
      "std       6.576952                83.282130                     40.514337\n",
      "min      -8.536000                -6.503500                      0.000000\n",
      "25%      -0.332500                31.817500                      9.960000\n",
      "50%       1.940000                56.980000                     38.340000\n",
      "75%       5.735000               101.170000                     70.047500\n",
      "max      34.590825               507.607500                    179.612925\n"
     ]
    }
   ],
   "source": [
    "# Outlier Handling\n",
    "\n",
    "for col in ['ndvi_ce','precipitation_ground_mm','reanalysis_sat_precip_amt_mm']:\n",
    "    df[col] = df[col].clip(upper=df[col].quantile(0.99))\n",
    "print(\"n\\After Outlier Handling (99th Percentile):\")\n",
    "print(df[['ndvi_ce','precipitation_ground_mm','reanalysis_sat_precip_amt_mm']].describe())"
   ]
  },
  {
   "cell_type": "code",
   "execution_count": 5,
   "id": "afbef4bc-dd9e-4ba5-b898-87e098f7b8e8",
   "metadata": {},
   "outputs": [],
   "source": [
    "# Create composite precipitation feature\n",
    "\n",
    "df['precip_composite'] = 0.7 * df['precipitation_ground_mm'] + 0.3 * df['reanalysis_sat_precip_amt_mm']"
   ]
  },
  {
   "cell_type": "code",
   "execution_count": 6,
   "id": "b1cf2591-c66a-4e29-b870-8d23d7ebd8e8",
   "metadata": {},
   "outputs": [],
   "source": [
    "# Add lagged feature\n",
    "\n",
    "for lag in [1,2,3,4]:\n",
    "    df[f'precip_composite_lag{lag}'] = df['precip_composite'].shift(lag)\n",
    "    df[f'reanalysis_air_temp_k_lag{lag}'] = df['reanalysis_air_temp_k'].shift(lag)\n",
    "    df[f'reanalysis_relative_humidity_percent_lag{lag}'] = df['reanalysis_relative_humidity_percent'].shift(lag)\n",
    "\n",
    "for col in df.columns:\n",
    "    if df[col].isnull().any():\n",
    "        df[col].fillna(df[col].median(), inplace = True)"
   ]
  },
  {
   "cell_type": "code",
   "execution_count": 7,
   "id": "692f62ba-44b4-4962-af56-e386d5979cbd",
   "metadata": {},
   "outputs": [],
   "source": [
    "# Create interaction term\n",
    "\n",
    "df['precip_temp_interaction'] = df['precip_composite'] * df['reanalysis_air_temp_k']"
   ]
  },
  {
   "cell_type": "code",
   "execution_count": 8,
   "id": "410d33f9-b6b7-4728-af1a-a0899cfb40bc",
   "metadata": {},
   "outputs": [
    {
     "name": "stdout",
     "output_type": "stream",
     "text": [
      "n\\Highly Correlated Features: [('ndvi_ne', 'ndvi_nw'), ('ndvi_nw', 'ndvi_ne'), ('ndvi_se', 'ndvi_sw'), ('ndvi_sw', 'ndvi_se'), ('ndvi_ce', 'total_cases'), ('precipitation_amt_mm', 'reanalysis_sat_precip_amt_mm'), ('precipitation_ground_mm', 'total_cases'), ('precipitation_ground_mm', 'precip_composite'), ('precipitation_ground_mm', 'precip_temp_interaction'), ('reanalysis_air_temp_k', 'reanalysis_avg_temp_k'), ('reanalysis_air_temp_k', 'reanalysis_air_temp_k_lag1'), ('reanalysis_avg_temp_k', 'reanalysis_air_temp_k'), ('reanalysis_dew_point_temp_k', 'reanalysis_specific_humidity_g_per_kg'), ('reanalysis_max_air_temp_k', 'reanalysis_tdtr_k'), ('reanalysis_max_air_temp_k', 'station_diur_temp_rng_c'), ('reanalysis_min_air_temp_k', 'reanalysis_tdtr_k'), ('reanalysis_sat_precip_amt_mm', 'precipitation_amt_mm'), ('reanalysis_specific_humidity_g_per_kg', 'reanalysis_dew_point_temp_k'), ('reanalysis_tdtr_k', 'reanalysis_max_air_temp_k'), ('reanalysis_tdtr_k', 'reanalysis_min_air_temp_k'), ('reanalysis_tdtr_k', 'station_diur_temp_rng_c'), ('station_diur_temp_rng_c', 'reanalysis_max_air_temp_k'), ('station_diur_temp_rng_c', 'reanalysis_tdtr_k'), ('total_cases', 'ndvi_ce'), ('total_cases', 'precipitation_ground_mm'), ('total_cases', 'precip_composite'), ('total_cases', 'precip_temp_interaction'), ('precip_composite', 'precipitation_ground_mm'), ('precip_composite', 'total_cases'), ('precip_composite', 'precip_temp_interaction'), ('reanalysis_air_temp_k_lag1', 'reanalysis_air_temp_k'), ('reanalysis_air_temp_k_lag1', 'reanalysis_air_temp_k_lag2'), ('reanalysis_air_temp_k_lag2', 'reanalysis_air_temp_k_lag1'), ('reanalysis_air_temp_k_lag2', 'reanalysis_air_temp_k_lag3'), ('reanalysis_air_temp_k_lag2', 'reanalysis_air_temp_k_lag4'), ('reanalysis_air_temp_k_lag3', 'reanalysis_air_temp_k_lag2'), ('reanalysis_air_temp_k_lag3', 'reanalysis_air_temp_k_lag4'), ('reanalysis_air_temp_k_lag4', 'reanalysis_air_temp_k_lag2'), ('reanalysis_air_temp_k_lag4', 'reanalysis_air_temp_k_lag3'), ('precip_temp_interaction', 'precipitation_ground_mm'), ('precip_temp_interaction', 'total_cases'), ('precip_temp_interaction', 'precip_composite')]\n"
     ]
    }
   ],
   "source": [
    "# Identify and drop redundant features\n",
    "\n",
    "corr_matrix = df.corr().abs()\n",
    "\n",
    "high_corr = [(col1,col2) for col1 in corr_matrix.columns for col2 in corr_matrix.index\n",
    "             if col1!= col2 and corr_matrix.loc[col2,col1] > 0.8]\n",
    "print(\"n\\Highly Correlated Features:\",high_corr)\n",
    "\n",
    "low_importance = ['reanalysis_specific_humidity_g_per_kg','reanalysis_air_temp_k']\n",
    "df = df.drop(columns = low_importance, errors = 'ignore')"
   ]
  },
  {
   "cell_type": "code",
   "execution_count": 9,
   "id": "36ea6237-0760-49cf-a6bf-3f0e893a2cb7",
   "metadata": {},
   "outputs": [
    {
     "name": "stdout",
     "output_type": "stream",
     "text": [
      "n\\After Normalization:\n",
      "           ndvi_ce      ndvi_ne      ndvi_nw      ndvi_se      ndvi_sw  \\\n",
      "count  1456.000000  1456.000000  1456.000000  1456.000000  1456.000000   \n",
      "mean      0.277310     0.529650     0.501162     0.416628     0.390075   \n",
      "std       0.152503     0.208041     0.221745     0.208095     0.208963   \n",
      "min       0.000000     0.000000     0.000000     0.000000     0.000000   \n",
      "25%       0.190218     0.397884     0.346154     0.290276     0.230769   \n",
      "50%       0.242911     0.511798     0.480769     0.406386     0.358974   \n",
      "75%       0.330908     0.674532     0.653846     0.551524     0.512821   \n",
      "max       1.000000     1.000000     1.000000     1.000000     1.000000   \n",
      "\n",
      "       reanalysis_avg_temp_k  reanalysis_max_air_temp_k  \\\n",
      "count            1456.000000                1456.000000   \n",
      "mean                0.545640                   0.359633   \n",
      "std                 0.235428                   0.254292   \n",
      "min                 0.000000                   0.000000   \n",
      "25%                 0.361733                   0.167397   \n",
      "50%                 0.557830                   0.278996   \n",
      "75%                 0.732984                   0.526106   \n",
      "max                 1.000000                   1.000000   \n",
      "\n",
      "       reanalysis_min_air_temp_k  station_avg_temp_c  station_max_temp_c  \\\n",
      "count                1456.000000         1456.000000         1456.000000   \n",
      "mean                    0.669140            0.577012            0.531848   \n",
      "std                     0.234830            0.238339            0.218515   \n",
      "min                     0.000000            0.000000            0.000000   \n",
      "25%                     0.500000            0.411410            0.377358   \n",
      "50%                     0.712963            0.618168            0.571755   \n",
      "75%                     0.870370            0.756007            0.697541   \n",
      "max                     1.000000            1.000000            1.000000   \n",
      "\n",
      "       station_min_temp_c  \n",
      "count         1456.000000  \n",
      "mean             0.598081  \n",
      "std              0.213413  \n",
      "min              0.000000  \n",
      "25%              0.458333  \n",
      "50%              0.611111  \n",
      "75%              0.763889  \n",
      "max              1.000000  \n"
     ]
    }
   ],
   "source": [
    "# Normalize NDVI and temperature features\n",
    "\n",
    "norm_cols = ['ndvi_ce','ndvi_ne','ndvi_nw','ndvi_se','ndvi_sw','reanalysis_avg_temp_k','reanalysis_max_air_temp_k','reanalysis_min_air_temp_k','station_avg_temp_c','station_max_temp_c','station_min_temp_c']\n",
    "\n",
    "for col in norm_cols:\n",
    "    df[col] = (df[col] - df[col].min()) / (df[col].max() - df[col].min())\n",
    "print(\"n\\After Normalization:\")\n",
    "print(df[norm_cols].describe())"
   ]
  },
  {
   "cell_type": "code",
   "execution_count": 10,
   "id": "6e48e60b-3ebf-4f1a-8c14-c12d50779c61",
   "metadata": {},
   "outputs": [
    {
     "name": "stdout",
     "output_type": "stream",
     "text": [
      "n\\Re-engineered dataset saved as 'dengue_reengineered.csv'\n"
     ]
    }
   ],
   "source": [
    "# Save re-engineered dataset\n",
    "\n",
    "df.to_csv('dengue_reengineered.csv',index = False)\n",
    "print(\"n\\Re-engineered dataset saved as 'dengue_reengineered.csv'\")"
   ]
  },
  {
   "cell_type": "code",
   "execution_count": 11,
   "id": "5103fe59-9f21-4307-8640-779eb9b20e9c",
   "metadata": {},
   "outputs": [
    {
     "name": "stdout",
     "output_type": "stream",
     "text": [
      "n\\Re-engineered Dataset Preview:\n",
      "  city  weekofyear   ndvi_ne   ndvi_nw   ndvi_se   ndvi_sw   ndvi_ce  \\\n",
      "0   sj        18.0  0.495525  0.442308  0.406386  0.333333  0.271200   \n",
      "1   sj        19.0  0.576892  0.519231  0.290276  0.282051  0.298329   \n",
      "2   sj        20.0  0.349064  0.576923  0.290276  0.307692  0.070629   \n",
      "3   sj        21.0  0.511798  0.730769  0.493469  0.487179  0.109120   \n",
      "4   sj        22.0  0.625712  0.750000  0.551524  0.512821  0.063209   \n",
      "\n",
      "   precipitation_amt_mm  precipitation_ground_mm  reanalysis_avg_temp_k  ...  \\\n",
      "0                 12.42                    13.06               0.262732  ...   \n",
      "1                 22.82                    30.44               0.396002  ...   \n",
      "2                 34.54                    35.77               0.479772  ...   \n",
      "3                 15.36                    23.45               0.546406  ...   \n",
      "4                  7.52                    18.16               0.628272  ...   \n",
      "\n",
      "   precip_composite_lag2  reanalysis_air_temp_k_lag2  \\\n",
      "0                53.8085                      298.65   \n",
      "1                53.8085                      298.65   \n",
      "2                12.8680                      297.57   \n",
      "3                28.1540                      298.21   \n",
      "4                35.4010                      298.78   \n",
      "\n",
      "   reanalysis_relative_humidity_percent_lag2  precip_composite_lag3  \\\n",
      "0                                      80.30                 53.809   \n",
      "1                                      80.30                 53.809   \n",
      "2                                      73.37                 53.809   \n",
      "3                                      77.37                 12.868   \n",
      "4                                      82.05                 28.154   \n",
      "\n",
      "   reanalysis_air_temp_k_lag3  reanalysis_relative_humidity_percent_lag3  \\\n",
      "0                      298.65                                      80.30   \n",
      "1                      298.65                                      80.30   \n",
      "2                      298.65                                      80.30   \n",
      "3                      297.57                                      73.37   \n",
      "4                      298.21                                      77.37   \n",
      "\n",
      "   precip_composite_lag4  reanalysis_air_temp_k_lag4  \\\n",
      "0                53.8085                      298.65   \n",
      "1                53.8085                      298.65   \n",
      "2                53.8085                      298.65   \n",
      "3                53.8085                      298.65   \n",
      "4                12.8680                      297.57   \n",
      "\n",
      "   reanalysis_relative_humidity_percent_lag4  precip_temp_interaction  \n",
      "0                                      80.30               3829.13076  \n",
      "1                                      80.30               8395.80434  \n",
      "2                                      80.30              10577.11078  \n",
      "3                                      80.30               6285.66677  \n",
      "4                                      73.37               4483.21536  \n",
      "\n",
      "[5 rows x 37 columns]\n"
     ]
    }
   ],
   "source": [
    "# Preview re-engineered dataset\n",
    "\n",
    "print(\"n\\Re-engineered Dataset Preview:\")\n",
    "print(df.head())"
   ]
  },
  {
   "cell_type": "code",
   "execution_count": null,
   "id": "b9f8da82-0bdd-47c4-9f3a-14cbf010da00",
   "metadata": {},
   "outputs": [],
   "source": []
  }
 ],
 "metadata": {
  "kernelspec": {
   "display_name": "Python 3 (ipykernel)",
   "language": "python",
   "name": "python3"
  },
  "language_info": {
   "codemirror_mode": {
    "name": "ipython",
    "version": 3
   },
   "file_extension": ".py",
   "mimetype": "text/x-python",
   "name": "python",
   "nbconvert_exporter": "python",
   "pygments_lexer": "ipython3",
   "version": "3.9.12"
  }
 },
 "nbformat": 4,
 "nbformat_minor": 5
}
