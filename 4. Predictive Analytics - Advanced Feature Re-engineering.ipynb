{
 "cells": [
  {
   "cell_type": "markdown",
   "id": "e66d13ba-dd00-4011-8c34-48e62b2ec30e",
   "metadata": {},
   "source": [
    "# D. Feature Re-engineering - Advanced"
   ]
  },
  {
   "cell_type": "code",
   "execution_count": 2,
   "id": "30607a4d-b272-4b71-b28c-d7763bd4608a",
   "metadata": {},
   "outputs": [],
   "source": [
    "# Author: Brian Gray, with Grok for data insight and debugging support\n",
    "# Date: 21 May 2025\n",
    "# Purpose: Apply advanced feature re-engineer features to the refined dataset to improve model accuracy based on model testing results\n",
    "# Dataset source files: 'dengue_refined.csv'\n",
    "# Output datasets: dengue_advanced.csv, sj_advanced.csv, and iq_advanced.csv\n",
    "# Dependencies: pandas, numpy, and Scikit-Learn\n",
    "# Notes:\n",
    "# 1. Re-run of data cleaning, feature re-engineering, and refined feature re-engineering to add cities to the dataset\n",
    "# 2. Advanced ndvi log transformation and scaling\n",
    "# 3. Boost temperature and humidity features\n",
    "# 4. Drop redundant features\n",
    "# 5. Validate and Re-Create Binned Temperature Features\n",
    "# 6. Adaptive feature pruning\n",
    "# 7. Data quality validation"
   ]
  },
  {
   "cell_type": "code",
   "execution_count": 13,
   "id": "697f07e0-7956-4a6c-94c4-8d29632e697c",
   "metadata": {},
   "outputs": [],
   "source": [
    "import pandas as pd\n",
    "import numpy as np\n",
    "from sklearn.preprocessing import RobustScaler"
   ]
  },
  {
   "cell_type": "code",
   "execution_count": 14,
   "id": "43f68976-3a8d-4667-8780-a1f68b2f28f5",
   "metadata": {},
   "outputs": [],
   "source": [
    "# Load datasets\n",
    "\n",
    "df = pd.read_csv('dengue_refined.csv')"
   ]
  },
  {
   "cell_type": "code",
   "execution_count": 15,
   "id": "d38f5112-fac4-4f2b-95e3-f30addf8b3d1",
   "metadata": {},
   "outputs": [
    {
     "name": "stdout",
     "output_type": "stream",
     "text": [
      "Initial Data Info:\n",
      "<class 'pandas.core.frame.DataFrame'>\n",
      "RangeIndex: 1456 entries, 0 to 1455\n",
      "Data columns (total 39 columns):\n",
      " #   Column                                     Non-Null Count  Dtype  \n",
      "---  ------                                     --------------  -----  \n",
      " 0   city                                       1456 non-null   object \n",
      " 1   weekofyear                                 1456 non-null   float64\n",
      " 2   ndvi_ne                                    1456 non-null   float64\n",
      " 3   ndvi_nw                                    1456 non-null   float64\n",
      " 4   ndvi_se                                    1456 non-null   float64\n",
      " 5   ndvi_sw                                    1456 non-null   float64\n",
      " 6   ndvi_ce                                    1456 non-null   float64\n",
      " 7   precipitation_amt_mm                       1456 non-null   float64\n",
      " 8   precipitation_ground_mm                    1456 non-null   float64\n",
      " 9   reanalysis_avg_temp_k                      1456 non-null   float64\n",
      " 10  reanalysis_dew_point_temp_k                1456 non-null   float64\n",
      " 11  reanalysis_precip_amt_kg_per_m2            1456 non-null   float64\n",
      " 12  reanalysis_relative_humidity_percent       1456 non-null   float64\n",
      " 13  reanalysis_sat_precip_amt_mm               1456 non-null   float64\n",
      " 14  reanalysis_tdtr_k                          1456 non-null   float64\n",
      " 15  station_avg_temp_c                         1456 non-null   float64\n",
      " 16  station_diur_temp_rng_c                    1456 non-null   float64\n",
      " 17  station_max_temp_c                         1456 non-null   float64\n",
      " 18  station_min_temp_c                         1456 non-null   float64\n",
      " 19  station_precip_mm                          1456 non-null   float64\n",
      " 20  total_cases                                1456 non-null   int64  \n",
      " 21  precip_composite                           1456 non-null   float64\n",
      " 22  precip_composite_lag1                      1456 non-null   float64\n",
      " 23  reanalysis_air_temp_k_lag1                 1456 non-null   float64\n",
      " 24  reanalysis_relative_humidity_percent_lag1  1456 non-null   float64\n",
      " 25  precip_composite_lag2                      1456 non-null   float64\n",
      " 26  reanalysis_air_temp_k_lag2                 1456 non-null   float64\n",
      " 27  reanalysis_relative_humidity_percent_lag2  1456 non-null   float64\n",
      " 28  precip_composite_lag3                      1456 non-null   float64\n",
      " 29  reanalysis_air_temp_k_lag3                 1456 non-null   float64\n",
      " 30  reanalysis_relative_humidity_percent_lag3  1456 non-null   float64\n",
      " 31  precip_composite_lag4                      1456 non-null   float64\n",
      " 32  reanalysis_air_temp_k_lag4                 1456 non-null   float64\n",
      " 33  reanalysis_relative_humidity_percent_lag4  1456 non-null   float64\n",
      " 34  precip_temp_interaction                    1456 non-null   float64\n",
      " 35  weekofyear_sin                             1456 non-null   float64\n",
      " 36  weekofyear_cos                             1456 non-null   float64\n",
      " 37  week_temp_interaction                      1456 non-null   float64\n",
      " 38  week_humidity_interaction                  1456 non-null   float64\n",
      "dtypes: float64(37), int64(1), object(1)\n",
      "memory usage: 443.8+ KB\n",
      "None\n"
     ]
    }
   ],
   "source": [
    "# Initial data review, checking for missing values and data types\n",
    "\n",
    "print(\"Initial Data Info:\")\n",
    "print(df.info())"
   ]
  },
  {
   "cell_type": "code",
   "execution_count": 16,
   "id": "138dfeb5-7530-4988-8591-96f42dc9f131",
   "metadata": {},
   "outputs": [
    {
     "name": "stdout",
     "output_type": "stream",
     "text": [
      "\n",
      "After NDVI Transformation:\n",
      "count    1456.000000\n",
      "mean        0.187362\n",
      "std         0.984186\n",
      "min        -1.931670\n",
      "25%        -0.387722\n",
      "50%         0.000000\n",
      "75%         0.612278\n",
      "max         4.236416\n",
      "Name: ndvi_ce_log, dtype: float64\n"
     ]
    }
   ],
   "source": [
    "# Advanced ndvi log transformation and scaling\n",
    "\n",
    "df['ndvi_ce'] = df['ndvi_ce'] + abs(df['ndvi_ce'].min()) + 1 \n",
    "df['ndvi_ce_log'] = np.log(df['ndvi_ce'])\n",
    "\n",
    "scaler = RobustScaler()\n",
    "\n",
    "df['ndvi_ce_log'] = scaler.fit_transform(df[['ndvi_ce_log']])\n",
    "\n",
    "print(\"\\nAfter NDVI Transformation:\")\n",
    "print(df['ndvi_ce_log'].describe())"
   ]
  },
  {
   "cell_type": "code",
   "execution_count": 5,
   "id": "f5a51f17-9dcf-461a-95c7-8191605f1d32",
   "metadata": {},
   "outputs": [
    {
     "name": "stdout",
     "output_type": "stream",
     "text": [
      "\n",
      "After Seasonal Feature Engineering:\n",
      "       weekofyear_sin_sq  weekofyear_cos_sq  week_temp_lag_interaction  \\\n",
      "count       1.456000e+03       1.456000e+03               1.456000e+03   \n",
      "mean        5.000000e-01       5.000000e-01              -5.121216e-01   \n",
      "std         3.536749e-01       3.536749e-01               2.113332e+02   \n",
      "min         1.034423e-31       2.586058e-32              -3.012490e+02   \n",
      "25%         1.257446e-01       1.257446e-01              -2.053190e+02   \n",
      "50%         5.000000e-01       5.000000e-01               4.780627e-14   \n",
      "75%         8.742554e-01       8.742554e-01               2.049800e+02   \n",
      "max         1.000000e+00       1.000000e+00               2.990000e+02   \n",
      "\n",
      "       week_humidity_lag_interaction  \n",
      "count                   1.456000e+03  \n",
      "mean                   -3.222482e-01  \n",
      "std                     5.865851e+01  \n",
      "min                    -9.617364e+01  \n",
      "25%                    -5.799141e+01  \n",
      "50%                    -1.429438e-14  \n",
      "75%                     5.652582e+01  \n",
      "max                     9.689000e+01  \n"
     ]
    }
   ],
   "source": [
    "# Seasonal feature engineering\n",
    "\n",
    "df['weekofyear_sin_sq'] = df['weekofyear_sin'] ** 2\n",
    "df['weekofyear_cos_sq'] = df['weekofyear_cos'] ** 2\n",
    "df['week_temp_lag_interaction'] = df['weekofyear_sin'] * df['reanalysis_air_temp_k_lag1']\n",
    "df['week_humidity_lag_interaction'] = df['weekofyear_cos'] * df['reanalysis_relative_humidity_percent_lag1']\n",
    "\n",
    "print(\"\\nAfter Seasonal Feature Engineering:\")\n",
    "print(df[['weekofyear_sin_sq', 'weekofyear_cos_sq', 'week_temp_lag_interaction', 'week_humidity_lag_interaction']].describe())"
   ]
  },
  {
   "cell_type": "code",
   "execution_count": 17,
   "id": "5133327c-8336-41d0-84a8-102b3e8cc3ea",
   "metadata": {},
   "outputs": [
    {
     "name": "stdout",
     "output_type": "stream",
     "text": [
      "\n",
      "After Temperature and Humidity Feature Boosting:\n",
      "       humidity_precip_interaction  temp_binned_low  temp_binned_optimal  \\\n",
      "count                  1456.000000           1456.0               1456.0   \n",
      "mean                   5249.879848              1.0                  0.0   \n",
      "std                    4333.847491              0.0                  0.0   \n",
      "min                    -243.274400              1.0                  0.0   \n",
      "25%                    2165.715400              1.0                  0.0   \n",
      "50%                    4240.456250              1.0                  0.0   \n",
      "75%                    7050.985875              1.0                  0.0   \n",
      "max                   27910.998286              1.0                  0.0   \n",
      "\n",
      "       temp_binned_high  \n",
      "count            1456.0  \n",
      "mean                0.0  \n",
      "std                 0.0  \n",
      "min                 0.0  \n",
      "25%                 0.0  \n",
      "50%                 0.0  \n",
      "75%                 0.0  \n",
      "max                 0.0  \n"
     ]
    }
   ],
   "source": [
    "# Boost temperature and humidity features\n",
    "\n",
    "df['temp_binned'] = pd.cut(df['reanalysis_avg_temp_k'], bins=[0, 298, 303, float('inf')],\n",
    "                           labels=['low', 'optimal', 'high'], include_lowest=True)\n",
    "df = pd.get_dummies(df, columns=['temp_binned'], prefix='temp_binned')\n",
    "df['humidity_precip_interaction'] = df['reanalysis_relative_humidity_percent'] * df['precip_composite']\n",
    "print(\"\\nAfter Temperature and Humidity Feature Boosting:\")\n",
    "print(df[['humidity_precip_interaction'] + [col for col in df.columns if 'temp_binned' in col]].describe())"
   ]
  },
  {
   "cell_type": "code",
   "execution_count": 18,
   "id": "aaff361c-9db8-4135-a9d7-b89df3d439e8",
   "metadata": {},
   "outputs": [
    {
     "name": "stdout",
     "output_type": "stream",
     "text": [
      "\n",
      "Highly Correlated Features (>0.8): [('ndvi_ne', 'ndvi_nw'), ('ndvi_nw', 'ndvi_ne'), ('ndvi_se', 'ndvi_sw'), ('ndvi_sw', 'ndvi_se'), ('ndvi_ce', 'total_cases'), ('ndvi_ce', 'ndvi_ce_log'), ('precipitation_amt_mm', 'reanalysis_sat_precip_amt_mm'), ('precipitation_ground_mm', 'total_cases'), ('precipitation_ground_mm', 'precip_composite'), ('precipitation_ground_mm', 'precip_temp_interaction'), ('precipitation_ground_mm', 'humidity_precip_interaction'), ('reanalysis_sat_precip_amt_mm', 'precipitation_amt_mm'), ('reanalysis_tdtr_k', 'station_diur_temp_rng_c'), ('station_diur_temp_rng_c', 'reanalysis_tdtr_k'), ('total_cases', 'ndvi_ce'), ('total_cases', 'precipitation_ground_mm'), ('total_cases', 'precip_temp_interaction'), ('precip_composite', 'precipitation_ground_mm'), ('precip_composite', 'precip_temp_interaction'), ('precip_composite', 'humidity_precip_interaction'), ('reanalysis_air_temp_k_lag1', 'reanalysis_air_temp_k_lag2'), ('reanalysis_air_temp_k_lag2', 'reanalysis_air_temp_k_lag1'), ('reanalysis_air_temp_k_lag2', 'reanalysis_air_temp_k_lag3'), ('reanalysis_air_temp_k_lag2', 'reanalysis_air_temp_k_lag4'), ('reanalysis_air_temp_k_lag3', 'reanalysis_air_temp_k_lag2'), ('reanalysis_air_temp_k_lag3', 'reanalysis_air_temp_k_lag4'), ('reanalysis_air_temp_k_lag4', 'reanalysis_air_temp_k_lag2'), ('reanalysis_air_temp_k_lag4', 'reanalysis_air_temp_k_lag3'), ('precip_temp_interaction', 'precipitation_ground_mm'), ('precip_temp_interaction', 'total_cases'), ('precip_temp_interaction', 'precip_composite'), ('precip_temp_interaction', 'humidity_precip_interaction'), ('weekofyear_sin', 'week_temp_interaction'), ('weekofyear_cos', 'week_humidity_interaction'), ('week_temp_interaction', 'weekofyear_sin'), ('week_humidity_interaction', 'weekofyear_cos'), ('ndvi_ce_log', 'ndvi_ce'), ('humidity_precip_interaction', 'precipitation_ground_mm'), ('humidity_precip_interaction', 'precip_composite'), ('humidity_precip_interaction', 'precip_temp_interaction')]\n",
      "\n",
      "Dropped Columns: []\n"
     ]
    }
   ],
   "source": [
    "# Drop redundant features\n",
    "\n",
    "numeric_cols = df.select_dtypes(include=['float64', 'int64']).columns\n",
    "corr_matrix = df[numeric_cols].corr().abs()\n",
    "high_corr = [(col1, col2) for col1 in corr_matrix.columns for col2 in corr_matrix.index\n",
    "             if col1 != col2 and corr_matrix.loc[col2, col1] > 0.8]\n",
    "print(\"\\nHighly Correlated Features (>0.8):\", high_corr)\n",
    "# Prioritize dropping lower-importance features (based on prior report)\n",
    "drop_candidates = ['reanalysis_max_air_temp_k', 'reanalysis_min_air_temp_k']\n",
    "drop_cols = [col for col in drop_candidates if col in df.columns and col in numeric_cols]\n",
    "df = df.drop(columns=drop_cols, errors='ignore')\n",
    "print(\"\\nDropped Columns:\", drop_cols)"
   ]
  },
  {
   "cell_type": "code",
   "execution_count": 21,
   "id": "b6dadae3-0843-42af-8e39-324e1e697013",
   "metadata": {},
   "outputs": [
    {
     "name": "stdout",
     "output_type": "stream",
     "text": [
      "\n",
      "After Binned Temperature Feature Creation:\n",
      "       temp_binned_low  temp_binned_low  temp_binned_low  temp_binned_optimal  \\\n",
      "count           1456.0           1456.0           1456.0               1456.0   \n",
      "mean               1.0              1.0              1.0                  0.0   \n",
      "std                0.0              0.0              0.0                  0.0   \n",
      "min                1.0              1.0              1.0                  0.0   \n",
      "25%                1.0              1.0              1.0                  0.0   \n",
      "50%                1.0              1.0              1.0                  0.0   \n",
      "75%                1.0              1.0              1.0                  0.0   \n",
      "max                1.0              1.0              1.0                  0.0   \n",
      "\n",
      "       temp_binned_optimal  temp_binned_optimal  temp_binned_high  \\\n",
      "count               1456.0               1456.0            1456.0   \n",
      "mean                   0.0                  0.0               0.0   \n",
      "std                    0.0                  0.0               0.0   \n",
      "min                    0.0                  0.0               0.0   \n",
      "25%                    0.0                  0.0               0.0   \n",
      "50%                    0.0                  0.0               0.0   \n",
      "75%                    0.0                  0.0               0.0   \n",
      "max                    0.0                  0.0               0.0   \n",
      "\n",
      "       temp_binned_high  temp_binned_high  temp_binned_low  ...  \\\n",
      "count            1456.0            1456.0           1456.0  ...   \n",
      "mean                0.0               0.0              1.0  ...   \n",
      "std                 0.0               0.0              0.0  ...   \n",
      "min                 0.0               0.0              1.0  ...   \n",
      "25%                 0.0               0.0              1.0  ...   \n",
      "50%                 0.0               0.0              1.0  ...   \n",
      "75%                 0.0               0.0              1.0  ...   \n",
      "max                 0.0               0.0              1.0  ...   \n",
      "\n",
      "       temp_binned_high  temp_binned_low  temp_binned_low  temp_binned_low  \\\n",
      "count            1456.0           1456.0           1456.0           1456.0   \n",
      "mean                0.0              1.0              1.0              1.0   \n",
      "std                 0.0              0.0              0.0              0.0   \n",
      "min                 0.0              1.0              1.0              1.0   \n",
      "25%                 0.0              1.0              1.0              1.0   \n",
      "50%                 0.0              1.0              1.0              1.0   \n",
      "75%                 0.0              1.0              1.0              1.0   \n",
      "max                 0.0              1.0              1.0              1.0   \n",
      "\n",
      "       temp_binned_optimal  temp_binned_optimal  temp_binned_optimal  \\\n",
      "count               1456.0               1456.0               1456.0   \n",
      "mean                   0.0                  0.0                  0.0   \n",
      "std                    0.0                  0.0                  0.0   \n",
      "min                    0.0                  0.0                  0.0   \n",
      "25%                    0.0                  0.0                  0.0   \n",
      "50%                    0.0                  0.0                  0.0   \n",
      "75%                    0.0                  0.0                  0.0   \n",
      "max                    0.0                  0.0                  0.0   \n",
      "\n",
      "       temp_binned_high  temp_binned_high  temp_binned_high  \n",
      "count            1456.0            1456.0            1456.0  \n",
      "mean                0.0               0.0               0.0  \n",
      "std                 0.0               0.0               0.0  \n",
      "min                 0.0               0.0               0.0  \n",
      "25%                 0.0               0.0               0.0  \n",
      "50%                 0.0               0.0               0.0  \n",
      "75%                 0.0               0.0               0.0  \n",
      "max                 0.0               0.0               0.0  \n",
      "\n",
      "[8 rows x 27 columns]\n"
     ]
    }
   ],
   "source": [
    "# Validate and Re-Create Binned Temperature Features\n",
    "\n",
    "if 'reanalysis_avg_temp_k' not in df.columns:\n",
    "    raise ValueError(\"Missing 'reanalysis_avg_temp_k' column required for binning.\")\n",
    "try:\n",
    "    df['temp_binned'] = pd.cut(df['reanalysis_avg_temp_k'], bins=[0, 298, 303, float('inf')],\n",
    "                               labels=['low', 'optimal', 'high'], include_lowest=True)\n",
    "    df = pd.get_dummies(df, columns=['temp_binned'], prefix='temp_binned')\n",
    "except Exception as e:\n",
    "    print(f\"Error creating temp_binned features: {e}\")\n",
    "    df['temp_binned_optimal'] = (df['reanalysis_avg_temp_k'] >= 298) & (df['reanalysis_avg_temp_k'] <= 303).astype(float)\n",
    "print(\"\\nAfter Binned Temperature Feature Creation:\")\n",
    "print(df[[col for col in df.columns if 'temp_binned' in col]].describe())"
   ]
  },
  {
   "cell_type": "code",
   "execution_count": 24,
   "id": "e81013c7-3db7-486c-a047-9d9d9308adde",
   "metadata": {},
   "outputs": [
    {
     "name": "stdout",
     "output_type": "stream",
     "text": [
      "\n",
      "Highly Correlated Features (>0.8): [('ndvi_ne', 'ndvi_nw'), ('ndvi_nw', 'ndvi_ne'), ('ndvi_se', 'ndvi_sw'), ('ndvi_sw', 'ndvi_se'), ('ndvi_ce', 'total_cases'), ('ndvi_ce', 'ndvi_ce_log'), ('precipitation_amt_mm', 'reanalysis_sat_precip_amt_mm'), ('precipitation_ground_mm', 'total_cases'), ('precipitation_ground_mm', 'precip_composite'), ('precipitation_ground_mm', 'precip_temp_interaction'), ('precipitation_ground_mm', 'humidity_precip_interaction'), ('reanalysis_sat_precip_amt_mm', 'precipitation_amt_mm'), ('reanalysis_tdtr_k', 'station_diur_temp_rng_c'), ('station_diur_temp_rng_c', 'reanalysis_tdtr_k'), ('total_cases', 'ndvi_ce'), ('total_cases', 'precipitation_ground_mm'), ('total_cases', 'precip_temp_interaction'), ('precip_composite', 'precipitation_ground_mm'), ('precip_composite', 'precip_temp_interaction'), ('precip_composite', 'humidity_precip_interaction'), ('reanalysis_air_temp_k_lag1', 'reanalysis_air_temp_k_lag2'), ('reanalysis_air_temp_k_lag2', 'reanalysis_air_temp_k_lag1'), ('reanalysis_air_temp_k_lag2', 'reanalysis_air_temp_k_lag3'), ('reanalysis_air_temp_k_lag2', 'reanalysis_air_temp_k_lag4'), ('reanalysis_air_temp_k_lag3', 'reanalysis_air_temp_k_lag2'), ('reanalysis_air_temp_k_lag3', 'reanalysis_air_temp_k_lag4'), ('reanalysis_air_temp_k_lag4', 'reanalysis_air_temp_k_lag2'), ('reanalysis_air_temp_k_lag4', 'reanalysis_air_temp_k_lag3'), ('precip_temp_interaction', 'precipitation_ground_mm'), ('precip_temp_interaction', 'total_cases'), ('precip_temp_interaction', 'precip_composite'), ('precip_temp_interaction', 'humidity_precip_interaction'), ('weekofyear_sin', 'week_temp_interaction'), ('weekofyear_cos', 'week_humidity_interaction'), ('week_temp_interaction', 'weekofyear_sin'), ('week_humidity_interaction', 'weekofyear_cos'), ('ndvi_ce_log', 'ndvi_ce'), ('humidity_precip_interaction', 'precipitation_ground_mm'), ('humidity_precip_interaction', 'precip_composite'), ('humidity_precip_interaction', 'precip_temp_interaction')]\n",
      "\n",
      "Dropped Columns: []\n"
     ]
    }
   ],
   "source": [
    "# Adaptive feature pruning\n",
    "\n",
    "numeric_cols = df.select_dtypes(include=['float64', 'int64']).columns\n",
    "corr_matrix = df[numeric_cols].corr().abs()\n",
    "high_corr = [(col1, col2) for col1 in corr_matrix.columns for col2 in corr_matrix.index\n",
    "             if col1 != col2 and corr_matrix.loc[col2, col1] > 0.8]\n",
    "print(\"\\nHighly Correlated Features (>0.8):\", high_corr)\n",
    "drop_candidates = ['reanalysis_max_air_temp_k', 'reanalysis_min_air_temp_k']\n",
    "drop_cols = [col for col in drop_candidates if col in df.columns and col in numeric_cols]\n",
    "df = df.drop(columns=drop_cols, errors='ignore')\n",
    "print(\"\\nDropped Columns:\", drop_cols)"
   ]
  },
  {
   "cell_type": "code",
   "execution_count": 25,
   "id": "c56376fa-e511-479f-a0e2-1d04587b81cb",
   "metadata": {},
   "outputs": [
    {
     "name": "stdout",
     "output_type": "stream",
     "text": [
      "\n",
      "After Feature Importance Weighting:\n",
      "       weekofyear_sin  weekofyear_cos  reanalysis_relative_humidity_percent  \\\n",
      "count    1.456000e+03    1.456000e+03                           1456.000000   \n",
      "mean    -1.220025e-18   -4.361590e-17                              0.212623   \n",
      "std      1.591537e+00    1.591537e+00                              0.800171   \n",
      "min     -2.250000e+00   -2.250000e+00                             -1.318502   \n",
      "25%     -1.540057e+00   -1.540057e+00                             -0.348468   \n",
      "50%      3.618276e-16   -3.875729e-16                              0.000000   \n",
      "75%      1.540057e+00    1.540057e+00                              0.651532   \n",
      "max      2.250000e+00    2.250000e+00                              1.934960   \n",
      "\n",
      "       reanalysis_avg_temp_k  reanalysis_relative_humidity_percent_lag1  \\\n",
      "count            1456.000000                                1456.000000   \n",
      "mean               -0.032834                                   0.212542   \n",
      "std                 0.634145                                   0.802203   \n",
      "min                -1.502564                                  -1.322254   \n",
      "25%                -0.528205                                  -0.349459   \n",
      "50%                 0.000000                                   0.000000   \n",
      "75%                 0.471795                                   0.650541   \n",
      "max                 1.191026                                   1.940467   \n",
      "\n",
      "       reanalysis_relative_humidity_percent_lag2  \\\n",
      "count                                1456.000000   \n",
      "mean                                    0.213362   \n",
      "std                                     0.808719   \n",
      "min                                    -1.334406   \n",
      "25%                                    -0.352671   \n",
      "50%                                     0.000000   \n",
      "75%                                     0.647329   \n",
      "max                                     1.958300   \n",
      "\n",
      "       reanalysis_relative_humidity_percent_lag3  \\\n",
      "count                                1456.000000   \n",
      "mean                                    0.214352   \n",
      "std                                     0.815880   \n",
      "min                                    -1.347564   \n",
      "25%                                    -0.356148   \n",
      "50%                                     0.000000   \n",
      "75%                                     0.643852   \n",
      "max                                     1.977610   \n",
      "\n",
      "       reanalysis_relative_humidity_percent_lag4  reanalysis_air_temp_k_lag1  \\\n",
      "count                                1456.000000                 1456.000000   \n",
      "mean                                    0.215641                    0.025067   \n",
      "std                                     0.823754                    0.620613   \n",
      "min                                    -1.361383                   -1.373642   \n",
      "25%                                    -0.359801                   -0.454335   \n",
      "50%                                     0.000000                    0.000000   \n",
      "75%                                     0.640199                    0.545665   \n",
      "max                                     1.997890                    1.201850   \n",
      "\n",
      "       reanalysis_air_temp_k_lag2  reanalysis_air_temp_k_lag3  \\\n",
      "count                 1456.000000                 1456.000000   \n",
      "mean                     0.025828                    0.026480   \n",
      "std                      0.620674                    0.620148   \n",
      "min                     -1.375231                   -1.375231   \n",
      "25%                     -0.453704                   -0.453704   \n",
      "50%                      0.000000                    0.000000   \n",
      "75%                      0.546296                    0.546296   \n",
      "max                      1.203241                    1.203241   \n",
      "\n",
      "       reanalysis_air_temp_k_lag4  \n",
      "count                 1456.000000  \n",
      "mean                     0.026581  \n",
      "std                      0.620131  \n",
      "min                     -1.375231  \n",
      "25%                     -0.453704  \n",
      "50%                      0.000000  \n",
      "75%                      0.546296  \n",
      "max                      1.203241  \n"
     ]
    }
   ],
   "source": [
    "# Feature importance weighting\n",
    "\n",
    "climatic_cols = ['reanalysis_relative_humidity_percent', 'reanalysis_avg_temp_k'] + \\\n",
    "                [f'reanalysis_relative_humidity_percent_lag{lag}' for lag in [1, 2, 3, 4]] + \\\n",
    "                [f'reanalysis_air_temp_k_lag{lag}' for lag in [1, 2, 3, 4]] + \\\n",
    "                [f'precip_temp_binned_lag{lag}_interaction' for lag in [1, 2, 3, 4]]\n",
    "for col in climatic_cols:\n",
    "    if col in df.columns:\n",
    "        df[col] = df[col] * 1.5\n",
    "if 'weekofyear_sin' in df.columns:\n",
    "    df['weekofyear_sin'] = df['weekofyear_sin'] * 1.5\n",
    "    df['weekofyear_cos'] = df['weekofyear_cos'] * 1.5\n",
    "scaler = RobustScaler()\n",
    "existing_climatic_cols = [col for col in climatic_cols if col in df.columns]\n",
    "if existing_climatic_cols:\n",
    "    df[existing_climatic_cols] = scaler.fit_transform(df[existing_climatic_cols])\n",
    "print(\"\\nAfter Feature Importance Weighting:\")\n",
    "print(df[['weekofyear_sin', 'weekofyear_cos'] + existing_climatic_cols].describe())"
   ]
  },
  {
   "cell_type": "code",
   "execution_count": 26,
   "id": "51dbd23d-8439-4872-bbc5-f53fa2c619a8",
   "metadata": {},
   "outputs": [
    {
     "name": "stdout",
     "output_type": "stream",
     "text": [
      "\n",
      "After Data Quality Validation:\n",
      "       ndvi_ce_log  reanalysis_relative_humidity_percent\n",
      "count  1456.000000                           1456.000000\n",
      "mean      0.187362                              0.416691\n",
      "std       0.984186                              0.619157\n",
      "min      -1.931670                              0.000000\n",
      "25%      -0.387722                              0.000000\n",
      "50%       0.000000                              0.000000\n",
      "75%       0.612278                              0.651532\n",
      "max       4.236416                              1.934960\n"
     ]
    }
   ],
   "source": [
    "# Data quality validation\n",
    "\n",
    "if 'ndvi_ce_log' in df.columns:\n",
    "    invalid_ndvi = (df['ndvi_ce_log'].abs() > 5)\n",
    "    df.loc[invalid_ndvi, 'ndvi_ce_log'] = df.loc[invalid_ndvi, ['ndvi_nw', 'ndvi_se', 'ndvi_sw']].mean(axis=1)\n",
    "for col in ['reanalysis_relative_humidity_percent'] + [f'reanalysis_relative_humidity_percent_lag{lag}' for lag in [1, 2, 3, 4]]:\n",
    "    if col in df.columns:\n",
    "        invalid_humidity = (df[col] < 0) | (df[col] > 100)\n",
    "        df.loc[invalid_humidity, col] = df[col].median()\n",
    "\n",
    "print(\"\\nAfter Data Quality Validation:\")\n",
    "print(df[['ndvi_ce_log', 'reanalysis_relative_humidity_percent']].describe())"
   ]
  },
  {
   "cell_type": "code",
   "execution_count": 27,
   "id": "62ea2959-7499-4398-bc93-0940ffbd60ee",
   "metadata": {},
   "outputs": [
    {
     "name": "stdout",
     "output_type": "stream",
     "text": [
      "\n",
      "Corrected dataset saved as 'dengue_advanced.csv'\n"
     ]
    }
   ],
   "source": [
    "# Save Advanced Feature Re-engineered dataset\n",
    "\n",
    "df.to_csv('dengue_advanced.csv', index=False)\n",
    "print(\"\\nCorrected dataset saved as 'dengue_advanced.csv'\")"
   ]
  },
  {
   "cell_type": "code",
   "execution_count": 28,
   "id": "7e5605ea-ce57-4e81-bb41-aa1930ecf61f",
   "metadata": {},
   "outputs": [
    {
     "name": "stdout",
     "output_type": "stream",
     "text": [
      "\n",
      "City-specific datasets saved as 'sj_advanced.csv' and 'iq_advanced.csv'\n"
     ]
    }
   ],
   "source": [
    "# Split dataset by city and create datasets for each\n",
    "\n",
    "if df['city'].nunique() > 1 and 'unknown' not in df['city'].unique():\n",
    "    sj_df = df[df['city'] == 'sj'].drop(columns=['city'])\n",
    "    iq_df = df[df['city'] == 'iq'].drop(columns=['city'])\n",
    "    sj_df.to_csv('sj_advanced.csv', index=False)\n",
    "    iq_df.to_csv('iq_advanced.csv', index=False)\n",
    "    print(\"\\nCity-specific datasets saved as 'sj_advanced.csv' and 'iq_advanced.csv'\")\n",
    "    datasets = [('San Juan', 'sj_advanced.csv'), ('Iquitos', 'iq_advanced.csv')]\n",
    "else:\n",
    "    datasets = [('Combined', 'dengue_advanced.csv')]\n",
    "    print(\"\\nProceeding with combined dataset due to missing city labels.\")"
   ]
  },
  {
   "cell_type": "code",
   "execution_count": 29,
   "id": "9096c702-8135-43d3-b7b9-b527c3620e61",
   "metadata": {},
   "outputs": [
    {
     "name": "stdout",
     "output_type": "stream",
     "text": [
      "\n",
      "Preview of Cleaned Dataset\n",
      "  city  weekofyear   ndvi_ne   ndvi_nw   ndvi_se   ndvi_sw   ndvi_ce  \\\n",
      "0   sj        18.0  0.495525  0.442308  0.406386  0.333333  1.272807   \n",
      "1   sj        19.0  0.576892  0.519231  0.290276  0.282051  1.299936   \n",
      "2   sj        20.0  0.349064  0.576923  0.290276  0.307692  1.072236   \n",
      "3   sj        21.0  0.511798  0.730769  0.493469  0.487179  1.110727   \n",
      "4   sj        22.0  0.625712  0.750000  0.551524  0.512821  1.064816   \n",
      "\n",
      "   precipitation_amt_mm  precipitation_ground_mm  reanalysis_avg_temp_k  ...  \\\n",
      "0                 12.42                    13.06              -0.794872  ...   \n",
      "1                 22.82                    30.44              -0.435897  ...   \n",
      "2                 34.54                    35.77              -0.210256  ...   \n",
      "3                 15.36                    23.45              -0.030769  ...   \n",
      "4                  7.52                    18.16               0.189744  ...   \n",
      "\n",
      "   temp_binned_low  temp_binned_optimal  temp_binned_high  \\\n",
      "0                1                    0                 0   \n",
      "1                1                    0                 0   \n",
      "2                1                    0                 0   \n",
      "3                1                    0                 0   \n",
      "4                1                    0                 0   \n",
      "\n",
      "   humidity_precip_interaction  temp_binned_low  temp_binned_optimal  \\\n",
      "0                    934.73380                1                    0   \n",
      "1                   2060.36310                1                    0   \n",
      "2                   2884.46775                1                    0   \n",
      "3                   1558.99770                1                    0   \n",
      "4                   1033.10640                1                    0   \n",
      "\n",
      "   temp_binned_high  temp_binned_low  temp_binned_optimal  temp_binned_high  \n",
      "0                 0                1                    0                 0  \n",
      "1                 0                1                    0                 0  \n",
      "2                 0                1                    0                 0  \n",
      "3                 0                1                    0                 0  \n",
      "4                 0                1                    0                 0  \n",
      "\n",
      "[5 rows x 50 columns]\n"
     ]
    }
   ],
   "source": [
    "# Preview the cleaned dataset\n",
    "\n",
    "print(\"\\nPreview of Cleaned Dataset\")\n",
    "print(df.head())"
   ]
  },
  {
   "cell_type": "code",
   "execution_count": null,
   "id": "139d0c32-2b35-4407-b001-aa7d191b65ce",
   "metadata": {},
   "outputs": [],
   "source": []
  }
 ],
 "metadata": {
  "kernelspec": {
   "display_name": "Python 3 (ipykernel)",
   "language": "python",
   "name": "python3"
  },
  "language_info": {
   "codemirror_mode": {
    "name": "ipython",
    "version": 3
   },
   "file_extension": ".py",
   "mimetype": "text/x-python",
   "name": "python",
   "nbconvert_exporter": "python",
   "pygments_lexer": "ipython3",
   "version": "3.9.12"
  }
 },
 "nbformat": 4,
 "nbformat_minor": 5
}
