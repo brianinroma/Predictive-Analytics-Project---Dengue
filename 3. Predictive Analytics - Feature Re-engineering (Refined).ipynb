{
 "cells": [
  {
   "cell_type": "markdown",
   "id": "99a6ad49-51c0-4a6f-ac64-20d6c3af6f98",
   "metadata": {},
   "source": [
    "# C. Feature Re-engineering - Refined"
   ]
  },
  {
   "cell_type": "code",
   "execution_count": 11,
   "id": "bb4d9ef7-f98c-4f94-8667-3d39c542c942",
   "metadata": {},
   "outputs": [],
   "source": [
    "# Author: Brian Gray, with Grok for data insight and debugging support\n",
    "# Date: 21 May 2025\n",
    "# Purpose: Refine re-engineer features to improve model accuracy based on model testing results\n",
    "# Dataset source file: dengue_reengineered.csv\n",
    "# Output dataset: dengue_refined.csv\n",
    "# Dependencies: pandas and numpy\n",
    "# Notes:\n",
    "# 1. Outlier handling through Winsorisation\n",
    "# 2. Cyclical encoding to capture seasonality\n",
    "# 3. Adjust weight of the composite precipitation feature\n",
    "# 4. Reduce redundant features, reducing model complexity\n",
    "# 5. Data validation of the dominant feature (ndvi_ce)"
   ]
  },
  {
   "cell_type": "code",
   "execution_count": 2,
   "id": "4dd90490-922e-44dd-992a-624e8d908f46",
   "metadata": {},
   "outputs": [],
   "source": [
    "import pandas as pd\n",
    "import numpy as np"
   ]
  },
  {
   "cell_type": "code",
   "execution_count": 3,
   "id": "3265720f-71b4-4199-83ac-263745d0a691",
   "metadata": {},
   "outputs": [],
   "source": [
    "# Load the source dataset\n",
    "\n",
    "df = pd.read_csv('dengue_reengineered.csv')"
   ]
  },
  {
   "cell_type": "code",
   "execution_count": 4,
   "id": "fdf39087-0479-4b3d-a7de-f0b09cf405fb",
   "metadata": {},
   "outputs": [
    {
     "name": "stdout",
     "output_type": "stream",
     "text": [
      "n\\After Winsorisation of ndvi_ce:\n",
      "count    1456.000000\n",
      "mean        0.277275\n",
      "std         0.152230\n",
      "min         0.001607\n",
      "25%         0.190218\n",
      "50%         0.242911\n",
      "75%         0.330908\n",
      "max         0.995016\n",
      "Name: ndvi_ce, dtype: float64\n"
     ]
    }
   ],
   "source": [
    "# Enhance outlier handling through Winsorisation\n",
    "\n",
    "df['ndvi_ce'] = df['ndvi_ce'].clip(lower = df['ndvi_ce'].quantile(0.01),upper = df['ndvi_ce'].quantile(0.99))\n",
    "print(\"n\\After Winsorisation of ndvi_ce:\")\n",
    "print(df['ndvi_ce'].describe())"
   ]
  },
  {
   "cell_type": "code",
   "execution_count": 5,
   "id": "bea9501f-3b66-4dae-bf4b-c1608c63134f",
   "metadata": {},
   "outputs": [],
   "source": [
    "# Cyclical encoding to capture seasonality - adding sin and cos transformations for 'weekofyear' feature\n",
    "\n",
    "df['weekofyear_sin'] = np.sin(2 * np.pi * df['weekofyear'] / 52)\n",
    "df['weekofyear_cos'] = np.cos(2 * np.pi * df['weekofyear'] / 52)\n",
    "\n",
    "# Add interaction with temperature and humidity\n",
    "\n",
    "df['week_temp_interaction'] = df['weekofyear_sin'] * df['reanalysis_avg_temp_k']\n",
    "df['week_humidity_interaction'] = df['weekofyear_cos'] * df['reanalysis_relative_humidity_percent']"
   ]
  },
  {
   "cell_type": "code",
   "execution_count": 6,
   "id": "2d4bcab4-2c48-4626-9fd2-eb0e479dfe07",
   "metadata": {},
   "outputs": [],
   "source": [
    "# Re-weight composite precipitation feature\n",
    "\n",
    "df['precip_composite'] = 0.5 * df['precipitation_ground_mm'] + 0.5 * df['reanalysis_sat_precip_amt_mm']\n",
    "\n",
    "for lag in [1,2,3,4]:\n",
    "    df[f'precip_composite_lag{lag}'] = df['precip_composite'].shift(lag)\n",
    "\n",
    "for col in df.columns:\n",
    "    if df[col].isnull().any():\n",
    "        df[col].fillna(df[col].median(), inplace = True)"
   ]
  },
  {
   "cell_type": "code",
   "execution_count": 7,
   "id": "165b753c-ea37-47d2-8582-d47f83546eb0",
   "metadata": {},
   "outputs": [
    {
     "name": "stdout",
     "output_type": "stream",
     "text": [
      "n\\Highly Correlated Features: [('ndvi_ne', 'ndvi_nw'), ('ndvi_nw', 'ndvi_ne'), ('ndvi_se', 'ndvi_sw'), ('ndvi_sw', 'ndvi_se'), ('ndvi_ce', 'total_cases'), ('precipitation_amt_mm', 'reanalysis_sat_precip_amt_mm'), ('precipitation_ground_mm', 'total_cases'), ('precipitation_ground_mm', 'precip_composite'), ('precipitation_ground_mm', 'precip_temp_interaction'), ('reanalysis_max_air_temp_k', 'reanalysis_tdtr_k'), ('reanalysis_max_air_temp_k', 'station_diur_temp_rng_c'), ('reanalysis_min_air_temp_k', 'reanalysis_tdtr_k'), ('reanalysis_sat_precip_amt_mm', 'precipitation_amt_mm'), ('reanalysis_tdtr_k', 'reanalysis_max_air_temp_k'), ('reanalysis_tdtr_k', 'reanalysis_min_air_temp_k'), ('reanalysis_tdtr_k', 'station_diur_temp_rng_c'), ('station_diur_temp_rng_c', 'reanalysis_max_air_temp_k'), ('station_diur_temp_rng_c', 'reanalysis_tdtr_k'), ('total_cases', 'ndvi_ce'), ('total_cases', 'precipitation_ground_mm'), ('total_cases', 'precip_temp_interaction'), ('precip_composite', 'precipitation_ground_mm'), ('precip_composite', 'precip_temp_interaction'), ('reanalysis_air_temp_k_lag1', 'reanalysis_air_temp_k_lag2'), ('reanalysis_air_temp_k_lag2', 'reanalysis_air_temp_k_lag1'), ('reanalysis_air_temp_k_lag2', 'reanalysis_air_temp_k_lag3'), ('reanalysis_air_temp_k_lag2', 'reanalysis_air_temp_k_lag4'), ('reanalysis_air_temp_k_lag3', 'reanalysis_air_temp_k_lag2'), ('reanalysis_air_temp_k_lag3', 'reanalysis_air_temp_k_lag4'), ('reanalysis_air_temp_k_lag4', 'reanalysis_air_temp_k_lag2'), ('reanalysis_air_temp_k_lag4', 'reanalysis_air_temp_k_lag3'), ('precip_temp_interaction', 'precipitation_ground_mm'), ('precip_temp_interaction', 'total_cases'), ('precip_temp_interaction', 'precip_composite'), ('weekofyear_sin', 'week_temp_interaction'), ('weekofyear_cos', 'week_humidity_interaction'), ('week_temp_interaction', 'weekofyear_sin'), ('week_humidity_interaction', 'weekofyear_cos')]\n"
     ]
    }
   ],
   "source": [
    "# Identify and drop redundant features\n",
    "\n",
    "corr_matrix = df.corr().abs()\n",
    "\n",
    "high_corr = [(col1,col2) for col1 in corr_matrix.columns for col2 in corr_matrix.index\n",
    "             if col1!= col2 and corr_matrix.loc[col2,col1] > 0.8]\n",
    "print(\"n\\Highly Correlated Features:\",high_corr)\n",
    "\n",
    "drop_cols = ['reanalysis_max_air_temp_k','reanalysis_min_air_temp_k']\n",
    "df = df.drop(columns = drop_cols, errors = 'ignore')\n",
    "\n"
   ]
  },
  {
   "cell_type": "code",
   "execution_count": 8,
   "id": "b02fbf54-bf22-46b7-8f6a-1a5baee81618",
   "metadata": {},
   "outputs": [
    {
     "name": "stdout",
     "output_type": "stream",
     "text": [
      "n\\After ndvi_ce Validation:\n",
      "count    1456.000000\n",
      "mean        0.277275\n",
      "std         0.152230\n",
      "min         0.001607\n",
      "25%         0.190218\n",
      "50%         0.242911\n",
      "75%         0.330908\n",
      "max         0.995016\n",
      "Name: ndvi_ce, dtype: float64\n"
     ]
    }
   ],
   "source": [
    "# Validation of the dominant feature - ndvi_ce\n",
    "\n",
    "invalid_ndvi = (df['ndvi_ce'] < -1) | (df['ndvi_ce'] > 1)\n",
    "df.loc[invalid_ndvi,'ndvi_ce'] = df.loc[invalid_ndvi,['ndvi_ce','ndvi_nw','ndvi_se','ndvi_sw']].mean(axis = 1)\n",
    "print(\"n\\After ndvi_ce Validation:\")\n",
    "print(df['ndvi_ce'].describe())"
   ]
  },
  {
   "cell_type": "code",
   "execution_count": 9,
   "id": "e33db547-c42f-41e9-a392-19789b15b388",
   "metadata": {},
   "outputs": [
    {
     "name": "stdout",
     "output_type": "stream",
     "text": [
      "n\\Refined dataset saved as 'dengue_refined.csv'\n"
     ]
    }
   ],
   "source": [
    "# Save refined dataset\n",
    "\n",
    "df.to_csv('dengue_refined.csv',index=False)\n",
    "print(\"n\\Refined dataset saved as 'dengue_refined.csv'\")"
   ]
  },
  {
   "cell_type": "code",
   "execution_count": 10,
   "id": "e9e3d7a1-0f6c-44e2-a285-8b591226d495",
   "metadata": {},
   "outputs": [
    {
     "name": "stdout",
     "output_type": "stream",
     "text": [
      "\n",
      "Preview of Cleaned Dataset\n",
      "  city  weekofyear   ndvi_ne   ndvi_nw   ndvi_se   ndvi_sw   ndvi_ce  \\\n",
      "0   sj        18.0  0.495525  0.442308  0.406386  0.333333  0.271200   \n",
      "1   sj        19.0  0.576892  0.519231  0.290276  0.282051  0.298329   \n",
      "2   sj        20.0  0.349064  0.576923  0.290276  0.307692  0.070629   \n",
      "3   sj        21.0  0.511798  0.730769  0.493469  0.487179  0.109120   \n",
      "4   sj        22.0  0.625712  0.750000  0.551524  0.512821  0.063209   \n",
      "\n",
      "   precipitation_amt_mm  precipitation_ground_mm  reanalysis_avg_temp_k  ...  \\\n",
      "0                 12.42                    13.06               0.262732  ...   \n",
      "1                 22.82                    30.44               0.396002  ...   \n",
      "2                 34.54                    35.77               0.479772  ...   \n",
      "3                 15.36                    23.45               0.546406  ...   \n",
      "4                  7.52                    18.16               0.628272  ...   \n",
      "\n",
      "   reanalysis_air_temp_k_lag3  reanalysis_relative_humidity_percent_lag3  \\\n",
      "0                      298.65                                      80.30   \n",
      "1                      298.65                                      80.30   \n",
      "2                      298.65                                      80.30   \n",
      "3                      297.57                                      73.37   \n",
      "4                      298.21                                      77.37   \n",
      "\n",
      "   precip_composite_lag4  reanalysis_air_temp_k_lag4  \\\n",
      "0                 50.685                      298.65   \n",
      "1                 50.685                      298.65   \n",
      "2                 50.685                      298.65   \n",
      "3                 50.685                      298.65   \n",
      "4                 12.740                      297.57   \n",
      "\n",
      "   reanalysis_relative_humidity_percent_lag4  precip_temp_interaction  \\\n",
      "0                                      80.30               3829.13076   \n",
      "1                                      80.30               8395.80434   \n",
      "2                                      80.30              10577.11078   \n",
      "3                                      80.30               6285.66677   \n",
      "4                                      73.37               4483.21536   \n",
      "\n",
      "   weekofyear_sin  weekofyear_cos  week_temp_interaction  \\\n",
      "0        0.822984       -0.568065               0.216224   \n",
      "1        0.748511       -0.663123               0.296412   \n",
      "2        0.663123       -0.748511               0.318147   \n",
      "3        0.568065       -0.822984               0.310394   \n",
      "4        0.464723       -0.885456               0.291973   \n",
      "\n",
      "   week_humidity_interaction  \n",
      "0                 -41.678910  \n",
      "1                 -51.305800  \n",
      "2                 -61.415307  \n",
      "3                 -66.118524  \n",
      "4                 -71.243792  \n",
      "\n",
      "[5 rows x 39 columns]\n"
     ]
    }
   ],
   "source": [
    "# Preview the cleaned dataset\n",
    "\n",
    "print(\"\\nPreview of Cleaned Dataset\")\n",
    "print(df.head())"
   ]
  },
  {
   "cell_type": "code",
   "execution_count": null,
   "id": "20f93e3b-95ad-4c88-937f-229dc5325822",
   "metadata": {},
   "outputs": [],
   "source": []
  }
 ],
 "metadata": {
  "kernelspec": {
   "display_name": "Python 3 (ipykernel)",
   "language": "python",
   "name": "python3"
  },
  "language_info": {
   "codemirror_mode": {
    "name": "ipython",
    "version": 3
   },
   "file_extension": ".py",
   "mimetype": "text/x-python",
   "name": "python",
   "nbconvert_exporter": "python",
   "pygments_lexer": "ipython3",
   "version": "3.9.12"
  }
 },
 "nbformat": 4,
 "nbformat_minor": 5
}
