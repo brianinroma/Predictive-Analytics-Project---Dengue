{
 "cells": [
  {
   "cell_type": "markdown",
   "id": "359a323d-8bba-4dc4-8b39-2bfb6f177b72",
   "metadata": {},
   "source": [
    "# D. Predictive Analytics - Dataset optimization"
   ]
  },
  {
   "cell_type": "code",
   "execution_count": 1,
   "id": "94dd17c7-3aff-4d00-b6ec-ad561e048e39",
   "metadata": {},
   "outputs": [],
   "source": [
    "import pandas as pd\n",
    "import numpy as np\n",
    "from sklearn.preprocessing import RobustScaler"
   ]
  },
  {
   "cell_type": "code",
   "execution_count": 2,
   "id": "54055705-1de1-4d29-bf58-6db526b4aa25",
   "metadata": {},
   "outputs": [],
   "source": [
    "df = pd.read_csv('dengue_advanced.csv')"
   ]
  },
  {
   "cell_type": "code",
   "execution_count": 3,
   "id": "127fe693-6ff7-41a1-b6c7-056e9c926552",
   "metadata": {},
   "outputs": [
    {
     "name": "stdout",
     "output_type": "stream",
     "text": [
      "\n",
      "After Feature Importance Re-Balancing:\n",
      "       weekofyear_sin  weekofyear_cos  reanalysis_relative_humidity_percent\n",
      "count    1.456000e+03    1.456000e+03                           1456.000000\n",
      "mean    -1.230605e-16    6.717764e-17                              0.639555\n",
      "std      5.167137e-01    5.167137e-01                              0.950309\n",
      "min     -7.304925e-01   -7.304925e-01                              0.000000\n",
      "25%     -5.000000e-01   -5.000000e-01                              0.000000\n",
      "50%      0.000000e+00    0.000000e+00                              0.000000\n",
      "75%      5.000000e-01    5.000000e-01                              1.000000\n",
      "max      7.304925e-01    7.304925e-01                              2.969861\n"
     ]
    }
   ],
   "source": [
    "climatic_cols = ['reanalysis_relative_humidity_percent', 'reanalysis_avg_temp_k'] + \\\n",
    "                [f'reanalysis_relative_humidity_percent_lag{lag}' for lag in [1, 2, 3, 4]] + \\\n",
    "                [f'reanalysis_air_temp_k_lag{lag}' for lag in [1, 2, 3, 4]] + \\\n",
    "                [f'precip_temp_binned_lag{lag}_interaction' for lag in [1, 2, 3, 4]]\n",
    "for col in climatic_cols:\n",
    "    if col in df.columns:\n",
    "        df[col] = df[col] * 2.0  # Higher weight for climatic features\n",
    "if 'weekofyear_sin' in df.columns:\n",
    "    df['weekofyear_sin'] = df['weekofyear_sin'] * 1.5\n",
    "    df['weekofyear_cos'] = df['weekofyear_cos'] * 1.5\n",
    "if 'ndvi_ce_log' in df.columns:\n",
    "    df['ndvi_ce_log'] = df['ndvi_ce_log'] * 0.5  # Reduce NDVI dominance\n",
    "scaler = RobustScaler()\n",
    "existing_cols = [col for col in climatic_cols + ['ndvi_ce_log', 'weekofyear_sin', 'weekofyear_cos'] if col in df.columns]\n",
    "if existing_cols:\n",
    "    df[existing_cols] = scaler.fit_transform(df[existing_cols])\n",
    "print(\"\\nAfter Feature Importance Re-Balancing:\")\n",
    "print(df[['weekofyear_sin', 'weekofyear_cos', 'reanalysis_relative_humidity_percent']].describe())"
   ]
  },
  {
   "cell_type": "code",
   "execution_count": 4,
   "id": "11a4f256-b665-46b7-b830-0de73e8fbbcf",
   "metadata": {},
   "outputs": [
    {
     "name": "stdout",
     "output_type": "stream",
     "text": [
      "\n",
      "After Data Quality Validation:\n",
      "       ndvi_ce_log  reanalysis_relative_humidity_percent\n",
      "count  1456.000000                           1456.000000\n",
      "mean      0.187362                              0.639555\n",
      "std       0.984186                              0.950309\n",
      "min      -1.931670                              0.000000\n",
      "25%      -0.387722                              0.000000\n",
      "50%       0.000000                              0.000000\n",
      "75%       0.612278                              1.000000\n",
      "max       4.236416                              2.969861\n"
     ]
    }
   ],
   "source": [
    "if 'ndvi_ce_log' in df.columns:\n",
    "    invalid_ndvi = (df['ndvi_ce_log'].abs() > 5)\n",
    "    df.loc[invalid_ndvi, 'ndvi_ce_log'] = df.loc[invalid_ndvi, ['ndvi_nw', 'ndvi_se', 'ndvi_sw']].mean(axis=1)\n",
    "for col in ['reanalysis_relative_humidity_percent'] + [f'reanalysis_relative_humidity_percent_lag{lag}' for lag in [1, 2, 3, 4]]:\n",
    "    if col in df.columns:\n",
    "        invalid_humidity = (df[col] < 0) | (df[col] > 100)\n",
    "        df.loc[invalid_humidity, col] = df[col].median()\n",
    "print(\"\\nAfter Data Quality Validation:\")\n",
    "print(df[['ndvi_ce_log', 'reanalysis_relative_humidity_percent']].describe())"
   ]
  },
  {
   "cell_type": "code",
   "execution_count": 5,
   "id": "2da105f9-aecb-40b7-af14-83fd9dcb7318",
   "metadata": {},
   "outputs": [
    {
     "name": "stdout",
     "output_type": "stream",
     "text": [
      "\n",
      "Optimized dataset saved as 'dengue_optimized.csv'\n"
     ]
    }
   ],
   "source": [
    "df.to_csv('dengue_optimized.csv', index=False)\n",
    "print(\"\\nOptimized dataset saved as 'dengue_optimized.csv'\")"
   ]
  },
  {
   "cell_type": "code",
   "execution_count": null,
   "id": "fb78acf4-6ed8-4cfb-8496-7896993098a1",
   "metadata": {},
   "outputs": [],
   "source": []
  }
 ],
 "metadata": {
  "kernelspec": {
   "display_name": "Python 3 (ipykernel)",
   "language": "python",
   "name": "python3"
  },
  "language_info": {
   "codemirror_mode": {
    "name": "ipython",
    "version": 3
   },
   "file_extension": ".py",
   "mimetype": "text/x-python",
   "name": "python",
   "nbconvert_exporter": "python",
   "pygments_lexer": "ipython3",
   "version": "3.9.12"
  }
 },
 "nbformat": 4,
 "nbformat_minor": 5
}
