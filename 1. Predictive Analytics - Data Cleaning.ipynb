{
 "cells": [
  {
   "cell_type": "markdown",
   "id": "8a9fb1ec-1975-4cf5-8149-9bb47a05f6e5",
   "metadata": {},
   "source": [
    "# A. Predictive Analytics Case Study: Anticipating Dengue Outbreaks - Data Cleaning"
   ]
  },
  {
   "cell_type": "code",
   "execution_count": 3,
   "id": "233c5470-34e9-4bf8-80ad-aedcb3dad9fe",
   "metadata": {},
   "outputs": [],
   "source": [
    "# Author: Brian Gray\n",
    "# Date: 7 May 2025\n",
    "# Purpose: Clean and prepare dataset for predictive modeling in BigML\n",
    "# Dataset source file: Dengue_training_fille_Spring_25.csv\n",
    "# Output dataset: cleaned_dengue_data_combined.csv - Both San Juan and Iquitos\n",
    "# Dependencies: pandas and numpy\n",
    "# Notes: Removes 'year' column, handles missing values, and optimizes data for BigML upload"
   ]
  },
  {
   "cell_type": "code",
   "execution_count": 1,
   "id": "2fe15f97-faae-4e00-af35-4a7bb546d6b6",
   "metadata": {},
   "outputs": [],
   "source": [
    "import pandas as pd\n",
    "import numpy as np"
   ]
  },
  {
   "cell_type": "code",
   "execution_count": 2,
   "id": "1ccd11f0-5e25-497c-84ed-73c068d1e3c2",
   "metadata": {},
   "outputs": [],
   "source": [
    "# Load the dataset and reading the CSV file into a pandas DataFrame\n",
    "df = pd.read_csv('Dengue_training_fille_Spring 25.csv')\n"
   ]
  },
  {
   "cell_type": "code",
   "execution_count": 3,
   "id": "0fb30210-fccd-41e4-9f94-32fa23aee38b",
   "metadata": {},
   "outputs": [
    {
     "name": "stdout",
     "output_type": "stream",
     "text": [
      "Initial Data Info:\n",
      "<class 'pandas.core.frame.DataFrame'>\n",
      "RangeIndex: 1456 entries, 0 to 1455\n",
      "Data columns (total 26 columns):\n",
      " #   Column                                 Non-Null Count  Dtype  \n",
      "---  ------                                 --------------  -----  \n",
      " 0   city                                   1456 non-null   object \n",
      " 1   year                                   1456 non-null   int64  \n",
      " 2   weekofyear                             1456 non-null   int64  \n",
      " 3   ndvi_ne                                1262 non-null   float64\n",
      " 4   ndvi_nw                                1404 non-null   float64\n",
      " 5   ndvi_se                                1434 non-null   float64\n",
      " 6   ndvi_sw                                1434 non-null   float64\n",
      " 7   ndvi_ce                                1456 non-null   float64\n",
      " 8   precipitation_amt_mm                   1443 non-null   float64\n",
      " 9   precipitation_ground_mm                1443 non-null   float64\n",
      " 10  reanalysis_air_temp_k                  1446 non-null   float64\n",
      " 11  reanalysis_avg_temp_k                  1446 non-null   float64\n",
      " 12  reanalysis_dew_point_temp_k            1446 non-null   float64\n",
      " 13  reanalysis_max_air_temp_k              1446 non-null   float64\n",
      " 14  reanalysis_min_air_temp_k              1446 non-null   float64\n",
      " 15  reanalysis_precip_amt_kg_per_m2        1446 non-null   float64\n",
      " 16  reanalysis_relative_humidity_percent   1446 non-null   float64\n",
      " 17  reanalysis_sat_precip_amt_mm           1443 non-null   float64\n",
      " 18  reanalysis_specific_humidity_g_per_kg  1446 non-null   float64\n",
      " 19  reanalysis_tdtr_k                      1446 non-null   float64\n",
      " 20  station_avg_temp_c                     1413 non-null   float64\n",
      " 21  station_diur_temp_rng_c                1413 non-null   float64\n",
      " 22  station_max_temp_c                     1436 non-null   float64\n",
      " 23  station_min_temp_c                     1442 non-null   float64\n",
      " 24  station_precip_mm                      1434 non-null   float64\n",
      " 25  total_cases                            1456 non-null   int64  \n",
      "dtypes: float64(22), int64(3), object(1)\n",
      "memory usage: 295.9+ KB\n",
      "None\n",
      "\n",
      "Missing Values Count:\n",
      "city                                       0\n",
      "year                                       0\n",
      "weekofyear                                 0\n",
      "ndvi_ne                                  194\n",
      "ndvi_nw                                   52\n",
      "ndvi_se                                   22\n",
      "ndvi_sw                                   22\n",
      "ndvi_ce                                    0\n",
      "precipitation_amt_mm                      13\n",
      "precipitation_ground_mm                   13\n",
      "reanalysis_air_temp_k                     10\n",
      "reanalysis_avg_temp_k                     10\n",
      "reanalysis_dew_point_temp_k               10\n",
      "reanalysis_max_air_temp_k                 10\n",
      "reanalysis_min_air_temp_k                 10\n",
      "reanalysis_precip_amt_kg_per_m2           10\n",
      "reanalysis_relative_humidity_percent      10\n",
      "reanalysis_sat_precip_amt_mm              13\n",
      "reanalysis_specific_humidity_g_per_kg     10\n",
      "reanalysis_tdtr_k                         10\n",
      "station_avg_temp_c                        43\n",
      "station_diur_temp_rng_c                   43\n",
      "station_max_temp_c                        20\n",
      "station_min_temp_c                        14\n",
      "station_precip_mm                         22\n",
      "total_cases                                0\n",
      "dtype: int64\n"
     ]
    }
   ],
   "source": [
    "# Initial data review, checking for missing values and data types\n",
    "print(\"Initial Data Info:\")\n",
    "print(df.info())\n",
    "print(\"\\nMissing Values Count:\")\n",
    "print(df.isnull().sum())"
   ]
  },
  {
   "cell_type": "code",
   "execution_count": 4,
   "id": "060ed57b-af12-4a87-a7ad-5fad11e9d079",
   "metadata": {},
   "outputs": [],
   "source": [
    "# Remove unnecessary column\n",
    "# Drop 'year' column, as it is not required for predictive modeling\n",
    "\n",
    "df = df.drop(['year'], axis=1)"
   ]
  },
  {
   "cell_type": "code",
   "execution_count": 5,
   "id": "ace2937a-7e0e-401f-b0c5-70b6267184e3",
   "metadata": {},
   "outputs": [
    {
     "name": "stdout",
     "output_type": "stream",
     "text": [
      "n\\Missing Values After Imputation:\n",
      "city                                     0\n",
      "weekofyear                               0\n",
      "ndvi_ne                                  0\n",
      "ndvi_nw                                  0\n",
      "ndvi_se                                  0\n",
      "ndvi_sw                                  0\n",
      "ndvi_ce                                  0\n",
      "precipitation_amt_mm                     0\n",
      "precipitation_ground_mm                  0\n",
      "reanalysis_air_temp_k                    0\n",
      "reanalysis_avg_temp_k                    0\n",
      "reanalysis_dew_point_temp_k              0\n",
      "reanalysis_max_air_temp_k                0\n",
      "reanalysis_min_air_temp_k                0\n",
      "reanalysis_precip_amt_kg_per_m2          0\n",
      "reanalysis_relative_humidity_percent     0\n",
      "reanalysis_sat_precip_amt_mm             0\n",
      "reanalysis_specific_humidity_g_per_kg    0\n",
      "reanalysis_tdtr_k                        0\n",
      "station_avg_temp_c                       0\n",
      "station_diur_temp_rng_c                  0\n",
      "station_max_temp_c                       0\n",
      "station_min_temp_c                       0\n",
      "station_precip_mm                        0\n",
      "total_cases                              0\n",
      "dtype: int64\n"
     ]
    }
   ],
   "source": [
    "# Handle missing values\n",
    "# Simple approach: for numerical columns, impute missing values with median to avoid skewing the data\n",
    "\n",
    "numerical_columns = df.select_dtypes(include=[np.number]).columns\n",
    "for col in numerical_columns:\n",
    "    df[col] = df[col].fillna(df[col].median())\n",
    "    \n",
    "# Verify no missing values remain\n",
    "\n",
    "print(\"n\\Missing Values After Imputation:\")\n",
    "print(df.isnull().sum())"
   ]
  },
  {
   "cell_type": "code",
   "execution_count": 6,
   "id": "19ac0545-256b-4a1c-a60c-c0f39fccc144",
   "metadata": {},
   "outputs": [],
   "source": [
    "# Round numerical columns to 2 decimal places\n",
    "\n",
    "df[numerical_columns] = df[numerical_columns].round(2)"
   ]
  },
  {
   "cell_type": "code",
   "execution_count": 7,
   "id": "8ad51f2e-f225-4d6c-ab2f-615fab4ffafb",
   "metadata": {},
   "outputs": [],
   "source": [
    "# Check for outliers\n",
    "# Cap extreme values at the 1st and 99th percentiles to reduce outlier impact\n",
    "\n",
    "for col in numerical_columns:\n",
    "    lower_bound = df[col].quantile(0.01)\n",
    "    upper_bound = df[col].quantile(0.99)\n",
    "    df[col] = df[col].clip(lower=lower_bound,upper=upper_bound)"
   ]
  },
  {
   "cell_type": "code",
   "execution_count": 8,
   "id": "3a9dd51a-9eb7-4a56-b82e-b412f4014ece",
   "metadata": {},
   "outputs": [],
   "source": [
    "# Confirm data consistency\n",
    "# Convert 'total_cases' to integer as it represents a count\n",
    "\n",
    "df['total_cases'] = df['total_cases'].astype(int)"
   ]
  },
  {
   "cell_type": "code",
   "execution_count": 9,
   "id": "17dcefec-0442-4366-a07a-681fee749687",
   "metadata": {},
   "outputs": [
    {
     "name": "stdout",
     "output_type": "stream",
     "text": [
      "\n",
      "Cleaned dataset saved as:cleaned_dengue_data.csv\n"
     ]
    }
   ],
   "source": [
    "# Save the cleaned dataset as CSV for BigML upload\n",
    "\n",
    "output_file ='cleaned_dengue_data.csv'\n",
    "df.to_csv(output_file,index=False)\n",
    "print(f\"\\nCleaned dataset saved as:{output_file}\")"
   ]
  },
  {
   "cell_type": "code",
   "execution_count": 10,
   "id": "f9474137-d7d1-48d8-8b47-e82460bbf4d8",
   "metadata": {},
   "outputs": [
    {
     "name": "stdout",
     "output_type": "stream",
     "text": [
      "\n",
      "Preview of Cleaned Dataset\n",
      "  city  weekofyear  ndvi_ne  ndvi_nw  ndvi_se  ndvi_sw  ndvi_ce  \\\n",
      "0   sj        18.0     0.12     0.10     0.20     0.18     3.16   \n",
      "1   sj        19.0     0.17     0.14     0.16     0.16     4.33   \n",
      "2   sj        20.0     0.03     0.17     0.16     0.17    -5.49   \n",
      "3   sj        21.0     0.13     0.25     0.23     0.24    -3.83   \n",
      "4   sj        22.0     0.20     0.26     0.25     0.25    -5.81   \n",
      "\n",
      "   precipitation_amt_mm  precipitation_ground_mm  reanalysis_air_temp_k  ...  \\\n",
      "0                 12.42                    13.06                 297.57  ...   \n",
      "1                 22.82                    30.44                 298.21  ...   \n",
      "2                 34.54                    35.77                 298.78  ...   \n",
      "3                 15.36                    23.45                 298.99  ...   \n",
      "4                  7.52                    18.16                 299.52  ...   \n",
      "\n",
      "   reanalysis_relative_humidity_percent  reanalysis_sat_precip_amt_mm  \\\n",
      "0                                 73.37                         12.42   \n",
      "1                                 77.37                         22.82   \n",
      "2                                 82.05                         34.54   \n",
      "3                                 80.34                         15.36   \n",
      "4                                 80.46                          7.52   \n",
      "\n",
      "   reanalysis_specific_humidity_g_per_kg  reanalysis_tdtr_k  \\\n",
      "0                                  14.01               2.63   \n",
      "1                                  15.37               2.37   \n",
      "2                                  16.85               2.30   \n",
      "3                                  16.67               2.43   \n",
      "4                                  17.21               3.01   \n",
      "\n",
      "   station_avg_temp_c  station_diur_temp_rng_c  station_max_temp_c  \\\n",
      "0               25.44                     6.90                29.4   \n",
      "1               26.71                     6.37                31.7   \n",
      "2               26.71                     6.49                32.2   \n",
      "3               27.47                     6.77                33.3   \n",
      "4               28.94                     9.37                35.0   \n",
      "\n",
      "   station_min_temp_c  station_precip_mm  total_cases  \n",
      "0                20.0               16.0            4  \n",
      "1                22.2                8.6            5  \n",
      "2                22.8               41.4            4  \n",
      "3                23.3                4.0            3  \n",
      "4                23.9                5.8            6  \n",
      "\n",
      "[5 rows x 25 columns]\n"
     ]
    }
   ],
   "source": [
    "# Preview the cleaned dataset\n",
    "\n",
    "print(\"\\nPreview of Cleaned Dataset\")\n",
    "print(df.head())"
   ]
  },
  {
   "cell_type": "code",
   "execution_count": null,
   "id": "267468e2-6220-4792-8b2f-ae3afe1800f8",
   "metadata": {},
   "outputs": [],
   "source": [
    "\n",
    "\n"
   ]
  }
 ],
 "metadata": {
  "kernelspec": {
   "display_name": "Python 3 (ipykernel)",
   "language": "python",
   "name": "python3"
  },
  "language_info": {
   "codemirror_mode": {
    "name": "ipython",
    "version": 3
   },
   "file_extension": ".py",
   "mimetype": "text/x-python",
   "name": "python",
   "nbconvert_exporter": "python",
   "pygments_lexer": "ipython3",
   "version": "3.9.12"
  }
 },
 "nbformat": 4,
 "nbformat_minor": 5
}
